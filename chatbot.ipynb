{
 "cells": [
  {
   "cell_type": "code",
   "execution_count": null,
   "metadata": {},
   "outputs": [],
   "source": [
    "import nltk\n",
    "import numpy as np\n",
    "import tensorflow\n",
    "import string\n",
    "import random\n",
    "import nltk.data\n",
    "import tensorflow\n",
    "import tflearn\n",
    "import json\n",
    "import pickle\n",
    "from nltk.stem.lancaster import *  \n",
    "from nltk.stem import *\n",
    "from nltk.tokenize import *\n",
    "nltk.download('popular', quiet=True) # for downloading packages"
   ]
  },
  {
   "cell_type": "code",
   "execution_count": null,
   "metadata": {},
   "outputs": [],
   "source": []
  }
 ],
 "metadata": {
  "kernelspec": {
   "display_name": "Python 3",
   "language": "python",
   "name": "python3"
  },
  "language_info": {
   "codemirror_mode": {
    "name": "ipython",
    "version": 3
   },
   "file_extension": ".py",
   "mimetype": "text/x-python",
   "name": "python",
   "nbconvert_exporter": "python",
   "pygments_lexer": "ipython3",
   "version": "3.10.10"
  },
  "orig_nbformat": 4,
  "vscode": {
   "interpreter": {
    "hash": "a16c65ff0e8e893a2ea4219bf49f2ec2c079d56605c6697d0b07091bc5964a95"
   }
  }
 },
 "nbformat": 4,
 "nbformat_minor": 2
}
